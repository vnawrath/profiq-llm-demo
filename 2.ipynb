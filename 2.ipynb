{
 "cells": [
  {
   "attachments": {},
   "cell_type": "markdown",
   "metadata": {},
   "source": [
    "# Why are we here?\n",
    "\n",
    "## Attention is all you need\n",
    "\n",
    "- transformers (the T in GPT) made a huge leap in sequence to sequence machine learning\n",
    "\n",
    "- lot of problems can be translated to seq2seq\n",
    "\n",
    "## Language is a great way to communicate\n",
    "\n",
    "- people speak languages, computers speak languages, aliens...\n",
    "\n",
    "- trying to to predict the next \"token\" in a language sequence turns out to produce some inner representation of the world in LLMs`\n",
    "\n",
    "## Chat is a powerful interface\n",
    "\n",
    "- think of how often you use a \"chat-like\" interface, both with AI and humans\n",
    "\n",
    "- voice counts in here too, make it work :D\n"
   ]
  }
 ],
 "metadata": {
  "language_info": {
   "name": "python"
  },
  "orig_nbformat": 4
 },
 "nbformat": 4,
 "nbformat_minor": 2
}
