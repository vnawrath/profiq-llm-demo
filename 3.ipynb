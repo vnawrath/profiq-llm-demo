{
 "cells": [
  {
   "attachments": {},
   "cell_type": "markdown",
   "metadata": {},
   "source": [
    "# LLMs have issues\n",
    "\n",
    "![llm](llm-working.png)\n",
    "\n",
    "## LLMs are probabilistic\n",
    "\n",
    "- they are a predictor of next token in a sequence\n",
    "- it usually seems very convincing, but that is an illusion to some extent\n",
    "- they don't have a concept of truth\n",
    "- if they start a \"bad\" sentence, they will continue it (hallucinations)\n",
    "- they don't reflect by default, don't have an inner monologue\n",
    "- don't have up to date factual knowledge, don't have inner computer\n",
    "\n",
    "## But they are still a great tool if you know the limitations\n"
   ]
  }
 ],
 "metadata": {
  "language_info": {
   "name": "python"
  },
  "orig_nbformat": 4
 },
 "nbformat": 4,
 "nbformat_minor": 2
}
