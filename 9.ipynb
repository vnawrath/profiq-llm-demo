{
 "cells": [
  {
   "attachments": {},
   "cell_type": "markdown",
   "metadata": {},
   "source": [
    "# What's next?\n",
    "\n",
    "## Self-prompting autonomous agents will be a thing\n",
    "\n",
    "- but human in the loop will still augment it\n",
    "\n",
    "## Agent crafted contexts\n",
    "\n",
    "- advanced search algorithms, map reduce using a summarization agent\n",
    "\n",
    "## Open models :fingers-crossed:\n",
    "\n",
    "- they already perform good on many of the tasks, can be fine-tuned relatively cheaply\n"
   ]
  }
 ],
 "metadata": {
  "language_info": {
   "name": "python"
  },
  "orig_nbformat": 4
 },
 "nbformat": 4,
 "nbformat_minor": 2
}
