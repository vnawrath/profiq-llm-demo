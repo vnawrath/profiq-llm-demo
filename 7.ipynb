{
 "cells": [
  {
   "attachments": {},
   "cell_type": "markdown",
   "metadata": {},
   "source": [
    "# Give me tools!\n",
    "\n",
    "![react](react.png)\n"
   ]
  },
  {
   "cell_type": "code",
   "execution_count": 36,
   "metadata": {},
   "outputs": [],
   "source": [
    "# Setup\n",
    "from dotenv import load_dotenv\n",
    "from langchain import PromptTemplate, LLMChain\n",
    "from langchain.prompts import (\n",
    "    ChatPromptTemplate,\n",
    "    PromptTemplate,\n",
    "    SystemMessagePromptTemplate,\n",
    "    AIMessagePromptTemplate,\n",
    "    HumanMessagePromptTemplate,\n",
    ")\n",
    "\n",
    "from langchain.chat_models import ChatOpenAI\n",
    "from langchain.schema import AIMessage, HumanMessage, SystemMessage\n",
    "from langchain.callbacks.streaming_stdout import StreamingStdOutCallbackHandler\n",
    "\n",
    "from langchain.agents import Tool\n",
    "from langchain.memory import ConversationBufferMemory\n",
    "from langchain.agents import initialize_agent\n",
    "from langchain.agents import AgentType\n",
    "from getpass import getpass\n",
    "\n",
    "\n",
    "load_dotenv()\n",
    "\n",
    "gpt35 = ChatOpenAI(\n",
    "    temperature=0, callbacks=[StreamingStdOutCallbackHandler()], streaming=True\n",
    ")"
   ]
  },
  {
   "cell_type": "code",
   "execution_count": 40,
   "metadata": {},
   "outputs": [
    {
     "ename": "AttributeError",
     "evalue": "'AgentExecutor' object has no attribute 'prompt'",
     "output_type": "error",
     "traceback": [
      "\u001b[0;31m---------------------------------------------------------------------------\u001b[0m",
      "\u001b[0;31mAttributeError\u001b[0m                            Traceback (most recent call last)",
      "Cell \u001b[0;32mIn[40], line 33\u001b[0m\n\u001b[1;32m     23\u001b[0m memory \u001b[39m=\u001b[39m ConversationBufferMemory(memory_key\u001b[39m=\u001b[39m\u001b[39m\"\u001b[39m\u001b[39mchat_history\u001b[39m\u001b[39m\"\u001b[39m, return_messages\u001b[39m=\u001b[39m\u001b[39mTrue\u001b[39;00m)\n\u001b[1;32m     25\u001b[0m agent_chain \u001b[39m=\u001b[39m initialize_agent(\n\u001b[1;32m     26\u001b[0m     tools,\n\u001b[1;32m     27\u001b[0m     gpt35,\n\u001b[0;32m   (...)\u001b[0m\n\u001b[1;32m     30\u001b[0m     memory\u001b[39m=\u001b[39mmemory,\n\u001b[1;32m     31\u001b[0m )\n\u001b[0;32m---> 33\u001b[0m agent_chain\u001b[39m.\u001b[39;49mprompt\n\u001b[1;32m     35\u001b[0m agent_chain\u001b[39m.\u001b[39mrun(\u001b[39m\"\u001b[39m\u001b[39mWhen was the last total solar eclipse?\u001b[39m\u001b[39m\"\u001b[39m)\n",
      "\u001b[0;31mAttributeError\u001b[0m: 'AgentExecutor' object has no attribute 'prompt'"
     ]
    }
   ],
   "source": [
    "# Example of an agent\n",
    "\n",
    "from langchain.utilities.wolfram_alpha import WolframAlphaAPIWrapper\n",
    "from langchain.utilities import PythonREPL\n",
    "\n",
    "\n",
    "wolfram = WolframAlphaAPIWrapper()\n",
    "python_repl = PythonREPL()\n",
    "\n",
    "tools = [\n",
    "    Tool(\n",
    "        name=\"Wolfram Alpha\",\n",
    "        func=wolfram.run,\n",
    "        description=\"Wolfram Alpha is a computational knowledge engine that answers factual queries directly by computing the answer from externally sourced curated data, rather than providing a list of documents or web pages that might contain the answer as a search engine might.\",\n",
    "    ),\n",
    "    Tool(\n",
    "        name=\"python_repl\",\n",
    "        description=\"A Python shell. Use this to execute python commands. Input should be a valid python command. If you want to see the output of a value, you should print it out with `print(...)`.\",\n",
    "        func=python_repl.run,\n",
    "    ),\n",
    "]\n",
    "\n",
    "memory = ConversationBufferMemory(memory_key=\"chat_history\", return_messages=True)\n",
    "\n",
    "agent_chain = initialize_agent(\n",
    "    tools,\n",
    "    gpt35,\n",
    "    agent=AgentType.CHAT_CONVERSATIONAL_REACT_DESCRIPTION,\n",
    "    verbose=True,\n",
    "    memory=memory,\n",
    ")\n",
    "\n",
    "agent_chain.prompt\n",
    "\n",
    "agent_chain.run(\"When was the last total solar eclipse?\")"
   ]
  },
  {
   "cell_type": "code",
   "execution_count": 38,
   "metadata": {},
   "outputs": [
    {
     "name": "stdout",
     "output_type": "stream",
     "text": [
      "\n",
      "\n",
      "\u001b[1m> Entering new AgentExecutor chain...\u001b[0m\n",
      "```json\n",
      "{\n",
      "    \"action\": \"Wolfram Alpha\",\n",
      "    \"action_input\": \"Leonardo DiCaprio age on December 4, 2021\"\n",
      "}\n",
      "```\u001b[32;1m\u001b[1;3m```json\n",
      "{\n",
      "    \"action\": \"Wolfram Alpha\",\n",
      "    \"action_input\": \"Leonardo DiCaprio age on December 4, 2021\"\n",
      "}\n",
      "```\u001b[0m\n",
      "Observation: \u001b[36;1m\u001b[1;3mAssumption: age | of Leonardo DiCaprio (actor) | on Saturday, December 4, 2021 \n",
      "Answer: 47 years 22 days\u001b[0m\n",
      "Thought:```json\n",
      "{\n",
      "    \"action\": \"Final Answer\",\n",
      "    \"action_input\": \"Leonardo DiCaprio was 47 years and 22 days old on December 4, 2021.\"\n",
      "}\n",
      "```\u001b[32;1m\u001b[1;3m```json\n",
      "{\n",
      "    \"action\": \"Final Answer\",\n",
      "    \"action_input\": \"Leonardo DiCaprio was 47 years and 22 days old on December 4, 2021.\"\n",
      "}\n",
      "```\u001b[0m\n",
      "\n",
      "\u001b[1m> Finished chain.\u001b[0m\n"
     ]
    },
    {
     "data": {
      "text/plain": [
       "'Leonardo DiCaprio was 47 years and 22 days old on December 4, 2021.'"
      ]
     },
     "execution_count": 38,
     "metadata": {},
     "output_type": "execute_result"
    }
   ],
   "source": [
    "agent_chain.run(\"How old was Leonardo DiCaprio on that day?\")"
   ]
  },
  {
   "cell_type": "code",
   "execution_count": 39,
   "metadata": {},
   "outputs": [
    {
     "name": "stdout",
     "output_type": "stream",
     "text": [
      "\n",
      "\n",
      "\u001b[1m> Entering new AgentExecutor chain...\u001b[0m\n",
      "Question: What is the current population of the Slovakia and Czechia? Plot the two numbers.\n",
      "Thought: I can use Wolfram Alpha to get the population data and Python to plot the numbers.\n",
      "Action:\n",
      "```\n",
      "{\n",
      "  \"action\": \"Wolfram Alpha\",\n",
      "  \"action_input\": \"population Slovakia and Czechia\"\n",
      "}\n",
      "```\n",
      "\u001b[32;1m\u001b[1;3mQuestion: What is the current population of the Slovakia and Czechia? Plot the two numbers.\n",
      "Thought: I can use Wolfram Alpha to get the population data and Python to plot the numbers.\n",
      "Action:\n",
      "```\n",
      "{\n",
      "  \"action\": \"Wolfram Alpha\",\n",
      "  \"action_input\": \"population Slovakia and Czechia\"\n",
      "}\n",
      "```\n",
      "\u001b[0m\n",
      "Observation: \u001b[36;1m\u001b[1;3mAssumption: Slovakia\n",
      "Czech Republic | population \n",
      "Answer: Slovakia | 5.46 million people\n",
      "Czech Republic | 10.5 million people\n",
      "(2021 estimates)\u001b[0m\n",
      "Thought:I can use Python to plot the population data obtained from Wolfram Alpha.\n",
      "Action:\n",
      "```\n",
      "{\n",
      "  \"action\": \"python_repl\",\n",
      "  \"action_input\": \"import matplotlib.pyplot as plt\\n\\nplt.plot([5.46, 10.5], marker='o')\\nplt.xticks([0, 1], ['Slovakia', 'Czechia'])\\nplt.ylabel('Population (millions)')\\nplt.title('Population of Slovakia and Czechia')\\nplt.show()\"\n",
      "}\n",
      "```\n",
      "\u001b[32;1m\u001b[1;3mI can use Python to plot the population data obtained from Wolfram Alpha.\n",
      "Action:\n",
      "```\n",
      "{\n",
      "  \"action\": \"python_repl\",\n",
      "  \"action_input\": \"import matplotlib.pyplot as plt\\n\\nplt.plot([5.46, 10.5], marker='o')\\nplt.xticks([0, 1], ['Slovakia', 'Czechia'])\\nplt.ylabel('Population (millions)')\\nplt.title('Population of Slovakia and Czechia')\\nplt.show()\"\n",
      "}\n",
      "```\n",
      "\u001b[0m"
     ]
    },
    {
     "data": {
      "image/png": "[encoded data removed]",
      "text/plain": [
       "<Figure size 640x480 with 1 Axes>"
      ]
     },
     "metadata": {},
     "output_type": "display_data"
    },
    {
     "name": "stdout",
     "output_type": "stream",
     "text": [
      "\n",
      "Observation: \u001b[33;1m\u001b[1;3m\u001b[0m\n",
      "Thought:I have successfully plotted the population data for Slovakia and Czechia.\n",
      "Final Answer: The current population of Slovakia is 5.46 million people and the current population of Czechia is 10.5 million people.\u001b[32;1m\u001b[1;3mI have successfully plotted the population data for Slovakia and Czechia.\n",
      "Final Answer: The current population of Slovakia is 5.46 million people and the current population of Czechia is 10.5 million people.\u001b[0m\n",
      "\n",
      "\u001b[1m> Finished chain.\u001b[0m\n"
     ]
    },
    {
     "data": {
      "text/plain": [
       "'The current population of Slovakia is 5.46 million people and the current population of Czechia is 10.5 million people.'"
      ]
     },
     "execution_count": 39,
     "metadata": {},
     "output_type": "execute_result"
    }
   ],
   "source": [
    "gpt4 = ChatOpenAI(\n",
    "    model=\"gpt-4\",\n",
    "    temperature=0,\n",
    "    callbacks=[StreamingStdOutCallbackHandler()],\n",
    "    streaming=True,\n",
    ")\n",
    "\n",
    "agent_chain = initialize_agent(\n",
    "    tools,\n",
    "    gpt35,\n",
    "    agent=AgentType.CHAT_ZERO_SHOT_REACT_DESCRIPTION,\n",
    "    verbose=True,\n",
    "    # memory=memory,\n",
    ")\n",
    "\n",
    "agent_chain.run(\n",
    "    \"What is the current population of the Slovakia and Czechia? Plot the two numbers.\"\n",
    ")"
   ]
  }
 ],
 "metadata": {
  "kernelspec": {
   "display_name": "Python 3",
   "language": "python",
   "name": "python3"
  },
  "language_info": {
   "codemirror_mode": {
    "name": "ipython",
    "version": 3
   },
   "file_extension": ".py",
   "mimetype": "text/x-python",
   "name": "python",
   "nbconvert_exporter": "python",
   "pygments_lexer": "ipython3",
   "version": "3.11.3"
  },
  "orig_nbformat": 4
 },
 "nbformat": 4,
 "nbformat_minor": 2
}
